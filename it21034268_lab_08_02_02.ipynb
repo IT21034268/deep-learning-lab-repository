{
  "cells": [
    {
      "cell_type": "markdown",
      "metadata": {
        "id": "-LMwDZHlsAvn"
      },
      "source": [
        "# Markov Decision Process (MDP)"
      ]
    },
    {
      "cell_type": "markdown",
      "metadata": {
        "id": "rK2etKh-sAvo"
      },
      "source": [
        "### Ransalu Senanayake"
      ]
    },
    {
      "cell_type": "code",
      "execution_count": 47,
      "metadata": {
        "id": "Tlr-PNcssAvp"
      },
      "outputs": [],
      "source": [
        "import copy\n",
        "import timeit\n",
        "import numpy as np\n",
        "import matplotlib.pyplot as pl\n",
        "%matplotlib inline\n",
        "from ipywidgets import interactive\n",
        "import ipywidgets as widgets"
      ]
    },
    {
      "cell_type": "markdown",
      "metadata": {
        "id": "_f6VSXlQsAvs"
      },
      "source": [
        "Create the following grid world.\n",
        "\n",
        "**States:** A 10x10 grid\n",
        "\n",
        "**Actions:** Up, Down, Left, Right\n",
        "\n",
        "**Tranistion probabilities:**\n",
        "* 0.7 in the direction of action\n",
        "* 0.1 in the three other directions\n",
        "* The robot bounces back to the same state near edges\n",
        "\n",
        "**Rewards:**\n",
        "* (7,8) has a reward +10\n",
        "* (2,7) has a reward +3\n",
        "* (4,3) has a reward -5\n",
        "* (7,3) has a reward -10\n",
        "* No reward in other states\n",
        "\n",
        "This example is based on Decision Making Under Uncertainty by M.J. Kochenderfer."
      ]
    },
    {
      "cell_type": "code",
      "source": [
        "# Let's define MDP parameters\n",
        "def createGrid10World():\n",
        "    def xy2s(y, x):\n",
        "        x = max(x, 0)\n",
        "        y = max(y, 0)\n",
        "        x = min(x, 9)\n",
        "        y = min(y, 9)\n",
        "        out = np.ravel_multi_index(np.array([x, y]), (10, 10))\n",
        "        return out\n",
        "\n",
        "    def s2xy(s):\n",
        "        x, y = np.unravel_index(s, (10, 10))\n",
        "        return y, x\n",
        "\n",
        "    def gridPlot(ax, im, title='', cmap='Blues'):\n",
        "        pl.imshow(im, interpolation='none', cmap=cmap, origin='lower')\n",
        "        pl.colorbar()\n",
        "        ax.set_xticks(np.arange(0, 10, 1))\n",
        "        ax.set_yticks(np.arange(0, 10, 1))\n",
        "        ax.set_xticklabels(np.arange(0, 10, 1))\n",
        "        ax.set_yticklabels(np.arange(0, 10, 1))\n",
        "        ax.set_xticks(np.arange(-.5, 10, 1), minor=True)\n",
        "        ax.set_yticks(np.arange(-.5, 10, 1), minor=True)\n",
        "        ax.grid(which='minor', color='w', linestyle='-', linewidth=1)\n",
        "        pl.title(title)\n",
        "        return\n",
        "\n",
        "    A = ['left', 'right', 'up', 'down']\n",
        "    S = np.arange(100)\n",
        "    T = np.zeros((len(S), len(A), len(S)))\n",
        "    R = np.zeros((len(S), len(A)))\n",
        "\n",
        "    for s in S:\n",
        "        x, y = s2xy(s)\n",
        "        if x == 2 and y == 7:\n",
        "            R[s, :] = 3\n",
        "        elif x == 7 and y == 8:\n",
        "            R[s, :] = 10\n",
        "        else:\n",
        "            if x == 7 and y == 3:\n",
        "                R[s, :] = -10\n",
        "            elif x == 4 and y == 3:\n",
        "                R[s, :] = -5\n",
        "            elif x == 0:\n",
        "                if y == 0 or y == 9:\n",
        "                    R[s, :] = -0.2\n",
        "                else:\n",
        "                    R[s, :] = -0.1\n",
        "                R[s, 0] = -0.7\n",
        "            elif x == 9:\n",
        "                if y == 0 or y == 9:\n",
        "                    R[s, :] = -0.2\n",
        "                else:\n",
        "                    R[s, :] = -0.1\n",
        "                R[s, 1] = -0.7\n",
        "            elif y == 0:\n",
        "                if x == 0 or x == 9:\n",
        "                    R[s, :] = -0.2\n",
        "                else:\n",
        "                    R[s, :] = -0.1\n",
        "                R[s, 3] = -0.7\n",
        "            elif y == 9:\n",
        "                if x == 0 or x == 9:\n",
        "                    R[s, :] = -0.2\n",
        "                else:\n",
        "                    R[s, :] = -0.1\n",
        "                R[s, 2] = -0.7\n",
        "\n",
        "            for a in A:\n",
        "                if a == 'left':\n",
        "                    T[s, 0, xy2s(x - 1, y)] += 0.7\n",
        "                    T[s, 0, xy2s(x + 1, y)] += 0.1\n",
        "                    T[s, 0, xy2s(x, y - 1)] += 0.1\n",
        "                    T[s, 0, xy2s(x, y + 1)] += 0.1\n",
        "                elif a == 'right':\n",
        "                    T[s, 1, xy2s(x + 1, y)] += 0.7\n",
        "                    T[s, 1, xy2s(x - 1, y)] += 0.1\n",
        "                    T[s, 1, xy2s(x, y - 1)] += 0.1\n",
        "                    T[s, 1, xy2s(x, y + 1)] += 0.1\n",
        "                elif a == 'up':\n",
        "                    T[s, 2, xy2s(x, y + 1)] += 0.7\n",
        "                    T[s, 2, xy2s(x, y - 1)] += 0.1\n",
        "                    T[s, 2, xy2s(x - 1, y)] += 0.1\n",
        "                    T[s, 2, xy2s(x + 1, y)] += 0.1\n",
        "                elif a == 'down':\n",
        "                    T[s, 3, xy2s(x, y - 1)] += 0.7\n",
        "                    T[s, 3, xy2s(x, y + 1)] += 0.1\n",
        "                    T[s, 3, xy2s(x - 1, y)] += 0.1\n",
        "                    T[s, 3, xy2s(x + 1, y)] += 0.1\n",
        "\n",
        "    for a, c_x, c_y in [(0, 0, 0), (0, 0, 9), (1, 9, 0), (1, 9, 9), (2, 0, 9), (2, 9, 9), (3, 0, 0), (3, 9, 0)]:\n",
        "        R[xy2s(c_x, c_y), a] = -0.8\n",
        "\n",
        "    discount = 0.9\n",
        "\n",
        "    nextStates = {}\n",
        "    for si in range(len(S)):\n",
        "        for ai in range(len(A)):\n",
        "            nextStates[(si, ai)] = np.where((T[si, ai, :] != 0) == True)[0]\n",
        "\n",
        "    return {'S': S, 'A': A, 'T': T, 'R': R, 'discount': discount, 'nextStates': nextStates, 'gridPlot': gridPlot, 'xy2s': xy2s, 's2xy': s2xy}"
      ],
      "metadata": {
        "id": "uJ9n9IgqCnFL"
      },
      "execution_count": 48,
      "outputs": []
    },
    {
      "cell_type": "code",
      "source": [
        "class MDP():\n",
        "    def __init__(self):\n",
        "        pass\n",
        "\n",
        "    def inbuilt_init(self, mdp_dict):\n",
        "        self.S = mdp_dict['S']\n",
        "        self.A = mdp_dict['A']\n",
        "        self.T = mdp_dict['T']\n",
        "        self.R = mdp_dict['R']\n",
        "        self.discount = mdp_dict['discount']\n",
        "        self.nextStates = mdp_dict['nextStates']\n",
        "        self.gridPlot = mdp_dict['gridPlot']\n",
        "        self.xy2s = mdp_dict['xy2s']\n",
        "        self.s2xy = mdp_dict['s2xy']"
      ],
      "metadata": {
        "id": "aWjSUWdGCvSF"
      },
      "execution_count": 49,
      "outputs": []
    },
    {
      "cell_type": "code",
      "source": [
        "# Define the MDP\n",
        "mdp = MDP()\n",
        "mdp.inbuilt_init(mdp_dict=createGrid10World())"
      ],
      "metadata": {
        "id": "PhjT2nMsC4YP"
      },
      "execution_count": 50,
      "outputs": []
    },
    {
      "cell_type": "code",
      "source": [
        "def iterativePolicyEvaluation(mdp, policy, numIterations=10):\n",
        "    U = np.zeros(len(mdp.S))\n",
        "    U_old = copy.copy(U)\n",
        "    for t in range(numIterations):\n",
        "        for s in mdp.S:\n",
        "            U[s] = sum([mdp.T[s, policy, s1] * (mdp.R[s, policy] + mdp.discount * U_old[s1]) for s1 in mdp.nextStates[(s, policy)]])\n",
        "        U_old = copy.copy(U)\n",
        "    return U"
      ],
      "metadata": {
        "id": "MzmxWM4UC7Xb"
      },
      "execution_count": 51,
      "outputs": []
    },
    {
      "cell_type": "code",
      "source": [
        "def valueIteration(mdp, numIterations=1):\n",
        "    U = np.zeros(len(mdp.S))\n",
        "    U_old = copy.copy(U)\n",
        "    for t in range(numIterations):\n",
        "        for s in mdp.S:\n",
        "            U[s] = max([sum([mdp.T[s, a, s1] * (mdp.R[s, a] + mdp.discount * U_old[s1]) for s1 in mdp.nextStates[(s, a)]]) for a in range(len(mdp.A))])\n",
        "        U_old = copy.copy(U)\n",
        "    return U"
      ],
      "metadata": {
        "id": "Tk84kseQDAfl"
      },
      "execution_count": 52,
      "outputs": []
    },
    {
      "cell_type": "code",
      "source": [
        "def policyExtration(mdp, U):\n",
        "    policy = np.zeros(len(mdp.S), dtype=int)\n",
        "    for s in mdp.S:\n",
        "        policy[s] = np.argmax([sum([mdp.T[s, a, s1] * (mdp.R[s, a] + mdp.discount * U[s1]) for s1 in mdp.nextStates[(s, a)]]) for a in range(len(mdp.A))])\n",
        "    return policy"
      ],
      "metadata": {
        "id": "XyMW-4QTDDRv"
      },
      "execution_count": 53,
      "outputs": []
    },
    {
      "cell_type": "code",
      "source": [
        "def qLearning(mdp, numEpisodes=10000, alpha=0.1, epsilon=0.1):\n",
        "    Q = np.zeros((len(mdp.S), len(mdp.A)))\n",
        "\n",
        "    for episode in range(numEpisodes):\n",
        "        s = np.random.choice(mdp.S)  # Initial state randomly selected\n",
        "        is_terminal = False  # Define terminal condition, if applicable\n",
        "\n",
        "        while not is_terminal:\n",
        "            if np.random.rand() < epsilon:\n",
        "                a = np.random.choice(len(mdp.A))\n",
        "            else:\n",
        "                a = np.argmax(Q[s, :])\n",
        "\n",
        "            # Get possible next states\n",
        "            possible_next_states = mdp.nextStates[(s, a)]\n",
        "\n",
        "            if possible_next_states.size == 0:\n",
        "                break\n",
        "\n",
        "            next_s = np.random.choice(possible_next_states,\n",
        "                                      p=mdp.T[s, a, possible_next_states])\n",
        "\n",
        "            reward = mdp.R[s, a]\n",
        "            Q[s, a] += alpha * (reward + mdp.discount * np.max(Q[next_s, :]) - Q[s, a])\n",
        "\n",
        "            s = next_s\n",
        "\n",
        "            # Set a condition if a terminal state is reached (optional)\n",
        "            # if terminal condition here:\n",
        "            #     is_terminal = True\n",
        "\n",
        "    policy = np.argmax(Q, axis=1)\n",
        "    return Q, policy"
      ],
      "metadata": {
        "id": "_kbzwnvhDGCF"
      },
      "execution_count": 54,
      "outputs": []
    },
    {
      "cell_type": "code",
      "source": [
        "# Measure execution time and convergence for Value Iteration and Q-Learning\n",
        "numIterations = 10"
      ],
      "metadata": {
        "id": "LXUpWCfWDKcH"
      },
      "execution_count": 55,
      "outputs": []
    },
    {
      "cell_type": "code",
      "source": [
        "# Value Iteration\n",
        "start_time = timeit.default_timer()\n",
        "U_vi = valueIteration(mdp, numIterations=numIterations)\n",
        "policy_vi = policyExtration(mdp, U=U_vi)\n",
        "elapsed_vi = timeit.default_timer() - start_time\n",
        "print('Value Iteration time =', np.round(elapsed_vi * 1000, 2))"
      ],
      "metadata": {
        "colab": {
          "base_uri": "https://localhost:8080/"
        },
        "id": "fT1_oGvqDOSs",
        "outputId": "2f3c11a8-9a96-4fc9-bf2b-2ab59e7bb7c8"
      },
      "execution_count": 56,
      "outputs": [
        {
          "output_type": "stream",
          "name": "stdout",
          "text": [
            "Value Iteration time = 31.23\n"
          ]
        }
      ]
    },
    {
      "cell_type": "code",
      "source": [
        "# Q-Learning\n",
        "start_time = timeit.default_timer()\n",
        "Q_ql, policy_ql = qLearning(mdp, numEpisodes=10000, alpha=0.1, epsilon=0.1)\n",
        "elapsed_ql = timeit.default_timer() - start_time\n",
        "print('Q-Learning time =', np.round(elapsed_ql * 1000, 2))"
      ],
      "metadata": {
        "colab": {
          "base_uri": "https://localhost:8080/"
        },
        "id": "Qve8M3NHDRRL",
        "outputId": "18cfe407-e359-4ec7-b709-38edae0808b7"
      },
      "execution_count": 57,
      "outputs": [
        {
          "output_type": "stream",
          "name": "stdout",
          "text": [
            "Q-Learning time = 9190.9\n"
          ]
        }
      ]
    },
    {
      "cell_type": "code",
      "source": [
        "# Plotting the utilities\n",
        "pl.figure(figsize=(10, 5))"
      ],
      "metadata": {
        "colab": {
          "base_uri": "https://localhost:8080/",
          "height": 52
        },
        "id": "L6OJ2j0tDT7h",
        "outputId": "b0e7aa8c-6ba8-4b7d-9f9d-bee424d5d564"
      },
      "execution_count": 58,
      "outputs": [
        {
          "output_type": "execute_result",
          "data": {
            "text/plain": [
              "<Figure size 1000x500 with 0 Axes>"
            ]
          },
          "metadata": {},
          "execution_count": 58
        },
        {
          "output_type": "display_data",
          "data": {
            "text/plain": [
              "<Figure size 1000x500 with 0 Axes>"
            ]
          },
          "metadata": {}
        }
      ]
    },
    {
      "cell_type": "code",
      "source": [
        "# Utility from Value Iteration\n",
        "pl.subplot(1, 2, 1)\n",
        "mdp.gridPlot(ax=pl.gca(), im=U_vi.reshape(10, 10), title='Value Iteration Utility', cmap='jet')\n",
        "for s in range(100):\n",
        "    x, y = mdp.s2xy(s)\n",
        "    if policy_vi[s] == 0:\n",
        "        m = '\\u02C2'\n",
        "    elif policy_vi[s] == 1:\n",
        "        m = '\\u02C3'\n",
        "    elif policy_vi[s] == 2:\n",
        "        m = '\\u02C4'\n",
        "    elif policy_vi[s] == 3:\n",
        "        m = '\\u02C5'\n",
        "    pl.text(x - 0.5, y - 1, m, color='k', size=20)\n",
        "\n",
        "pl.show()"
      ],
      "metadata": {
        "colab": {
          "base_uri": "https://localhost:8080/",
          "height": 412
        },
        "id": "LczFY-AgDaSb",
        "outputId": "4ca4d71d-74b5-4e8c-bcfa-3b31a0b3c891"
      },
      "execution_count": 59,
      "outputs": [
        {
          "output_type": "display_data",
          "data": {
            "text/plain": [
              "<Figure size 640x480 with 2 Axes>"
            ],
            "image/png": "[encoded data removed]"
          },
          "metadata": {}
        }
      ]
    },
    {
      "cell_type": "code",
      "source": [
        "# Q-values from Q-Learning\n",
        "pl.subplot(1, 2, 2)\n",
        "mdp.gridPlot(ax=pl.gca(), im=np.max(Q_ql, axis=1).reshape(10, 10), title='Q-Learning Utility', cmap='jet')\n",
        "for s in range(100):\n",
        "    x, y = mdp.s2xy(s)\n",
        "    if policy_ql[s] == 0:\n",
        "        m = '\\u02C2'\n",
        "    elif policy_ql[s] == 1:\n",
        "        m = '\\u02C3'\n",
        "    elif policy_ql[s] == 2:\n",
        "        m = '\\u02C4'\n",
        "    elif policy_ql[s] == 3:\n",
        "        m = '\\u02C5'\n",
        "    pl.text(x - 0.5, y - 1, m, color='k', size=20)\n",
        "\n",
        "pl.show()"
      ],
      "metadata": {
        "colab": {
          "base_uri": "https://localhost:8080/",
          "height": 412
        },
        "id": "_MBav0W-DbHz",
        "outputId": "6e1527c5-fed2-4a9a-9639-90a258ea901a"
      },
      "execution_count": 60,
      "outputs": [
        {
          "output_type": "display_data",
          "data": {
            "text/plain": [
              "<Figure size 640x480 with 2 Axes>"
            ],
            "image/png": "[encoded data removed]"
          },
          "metadata": {}
        }
      ]
    }
  ],
  "metadata": {
    "@webio": {
      "lastCommId": "21E8675012EB469B8DD225E5191E1594",
      "lastKernelId": "ec90fbfa-47cf-4656-a1ce-4ca4670e6701"
    },
    "colab": {
      "provenance": [],
      "gpuType": "T4"
    },
    "kernelspec": {
      "display_name": "Python 3",
      "name": "python3"
    },
    "language_info": {
      "codemirror_mode": {
        "name": "ipython",
        "version": 3
      },
      "file_extension": ".py",
      "mimetype": "text/x-python",
      "name": "python",
      "nbconvert_exporter": "python",
      "pygments_lexer": "ipython3",
      "version": "3.8.8"
    },
    "accelerator": "GPU"
  },
  "nbformat": 4,
  "nbformat_minor": 0
}